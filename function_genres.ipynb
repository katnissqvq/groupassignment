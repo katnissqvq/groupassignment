{
 "cells": [
  {
   "cell_type": "code",
   "execution_count": 2,
   "id": "b9ac5faf",
   "metadata": {},
   "outputs": [],
   "source": [
    "import pandas as pd\n",
    "df = pd.read_csv('google_books_1299.csv')"
   ]
  },
  {
   "cell_type": "code",
   "execution_count": 18,
   "id": "e004d542",
   "metadata": {},
   "outputs": [
    {
     "data": {
      "text/plain": [
       "0                                                    none\n",
       "1       Fiction , Mystery &amp, Detective , Cozy , Gen...\n",
       "2         Games &amp, Activities , Video &amp, Electronic\n",
       "3                                                    none\n",
       "4                        Fiction , Fantasy , Dark Fantasy\n",
       "                              ...                        \n",
       "1294                       Medical , Health Care Delivery\n",
       "1295    Psychology , Cognitive Psychology &amp, Cognition\n",
       "1296                                                 none\n",
       "1297                                                 none\n",
       "1298                       Fiction , Thrillers , Suspense\n",
       "Name: generes, Length: 1299, dtype: object"
      ]
     },
     "execution_count": 18,
     "metadata": {},
     "output_type": "execute_result"
    }
   ],
   "source": [
    "df['generes']"
   ]
  },
  {
   "cell_type": "code",
   "execution_count": 31,
   "id": "47dfe010",
   "metadata": {},
   "outputs": [],
   "source": [
    "df['generes'].apply(lambda x: x.replace(',', '').replace('&amp', '').split())\n",
    "df['genres'] = df['generes'].apply(lambda x: ' '.join(x.replace(',', '').replace('&amp', '').split()))"
   ]
  },
  {
   "cell_type": "code",
   "execution_count": 54,
   "id": "7f4139f8",
   "metadata": {},
   "outputs": [
    {
     "data": {
      "text/plain": [
       "0                                              none\n",
       "1        Fiction  Mystery  Detective  Cozy  General\n",
       "2              Games  Activities  Video  Electronic\n",
       "3                                              none\n",
       "4                    Fiction  Fantasy  Dark Fantasy\n",
       "                           ...                     \n",
       "1294                  Medical  Health Care Delivery\n",
       "1295    Psychology  Cognitive Psychology  Cognition\n",
       "1296                                           none\n",
       "1297                                           none\n",
       "1298                   Fiction  Thrillers  Suspense\n",
       "Name: genres, Length: 1299, dtype: object"
      ]
     },
     "execution_count": 54,
     "metadata": {},
     "output_type": "execute_result"
    }
   ],
   "source": [
    "def clean_up_genres(x):\n",
    "    x = x.replace(',', '').replace('&amp', '')\n",
    "    return x\n",
    "\n",
    "df['genres'] = df['generes'].apply(clean_up_genres)\n",
    "df['genres']"
   ]
  }
 ],
 "metadata": {
  "kernelspec": {
   "display_name": "Python 3 (ipykernel)",
   "language": "python",
   "name": "python3"
  },
  "language_info": {
   "codemirror_mode": {
    "name": "ipython",
    "version": 3
   },
   "file_extension": ".py",
   "mimetype": "text/x-python",
   "name": "python",
   "nbconvert_exporter": "python",
   "pygments_lexer": "ipython3",
   "version": "3.9.7"
  }
 },
 "nbformat": 4,
 "nbformat_minor": 5
}
