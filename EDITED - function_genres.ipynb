{
 "cells": [
  {
   "cell_type": "code",
   "execution_count": 1,
   "id": "d8815b7d",
   "metadata": {},
   "outputs": [
    {
     "name": "stdout",
     "output_type": "stream",
     "text": [
      "Gensim version: 4.1.2\n"
     ]
    },
    {
     "data": {
      "text/html": [
       "<style>.container { width:90% !important; }</style>"
      ],
      "text/plain": [
       "<IPython.core.display.HTML object>"
      ]
     },
     "metadata": {},
     "output_type": "display_data"
    }
   ],
   "source": [
    "#I've written a quick script to help you preprocess genre and save it into a new column called preprocessed_genre.\n",
    "import os\n",
    "import sys\n",
    "from pathlib import Path\n",
    "\n",
    "main_dir_name = 'Week'\n",
    "unwanted_subdir_name = 'exercises'\n",
    "\n",
    "for _ in range(5):\n",
    "    parent_path = str(Path.cwd().parents[_]).split('/')[-1]\n",
    "    if (main_dir_name in str(Path.cwd()).split('/')[-1]) and (\n",
    "        unwanted_subdir_name not in str(Path.cwd()).split('/')[-1]\n",
    "    ):\n",
    "        weeks_dir = str(Path.cwd())\n",
    "\n",
    "    elif (main_dir_name in parent_path) and (unwanted_subdir_name not in parent_path):\n",
    "        weeks_dir = str(Path.cwd().parents[_])\n",
    "\n",
    "main_dir = str(Path(weeks_dir).parents[0])\n",
    "sys.path.append(main_dir)\n",
    "\n",
    "from setup.settings import *\n"
   ]
  },
  {
   "cell_type": "code",
   "execution_count": 2,
   "id": "b9ac5faf",
   "metadata": {},
   "outputs": [],
   "source": [
    "#I changed this\n",
    "import pandas as pd\n",
    "df = pd.read_csv('/Users/nyxinsane/Library/CloudStorage/OneDrive-UvA/Teaching/CCS-2/CCS-2 Tutorial Material/Week 3/exercises/Google Books Dataset/google_books_1299.csv',\n",
    "header=0, delimiter=',')"
   ]
  },
  {
   "cell_type": "code",
   "execution_count": 3,
   "id": "0660ddfa",
   "metadata": {},
   "outputs": [
    {
     "data": {
      "text/html": [
       "<div>\n",
       "<style scoped>\n",
       "    .dataframe tbody tr th:only-of-type {\n",
       "        vertical-align: middle;\n",
       "    }\n",
       "\n",
       "    .dataframe tbody tr th {\n",
       "        vertical-align: top;\n",
       "    }\n",
       "\n",
       "    .dataframe thead th {\n",
       "        text-align: right;\n",
       "    }\n",
       "</style>\n",
       "<table border=\"1\" class=\"dataframe\">\n",
       "  <thead>\n",
       "    <tr style=\"text-align: center;\">\n",
       "      <th></th>\n",
       "      <th>Unnamed: 0</th>\n",
       "      <th>title</th>\n",
       "      <th>author</th>\n",
       "      <th>rating</th>\n",
       "      <th>voters</th>\n",
       "      <th>price</th>\n",
       "      <th>currency</th>\n",
       "      <th>description</th>\n",
       "      <th>publisher</th>\n",
       "      <th>page_count</th>\n",
       "      <th>generes</th>\n",
       "      <th>ISBN</th>\n",
       "      <th>language</th>\n",
       "      <th>published_date</th>\n",
       "    </tr>\n",
       "  </thead>\n",
       "  <tbody>\n",
       "    <tr>\n",
       "      <th>0</th>\n",
       "      <td>0</td>\n",
       "      <td>Attack on Titan: Volume 13</td>\n",
       "      <td>Hajime Isayama</td>\n",
       "      <td>4.600</td>\n",
       "      <td>428</td>\n",
       "      <td>43.280</td>\n",
       "      <td>SAR</td>\n",
       "      <td>NO SAFE PLACE LEFT At great cost to the Garris...</td>\n",
       "      <td>Kodansha Comics</td>\n",
       "      <td>192</td>\n",
       "      <td>none</td>\n",
       "      <td>9781612626864</td>\n",
       "      <td>English</td>\n",
       "      <td>Jul 31, 2014</td>\n",
       "    </tr>\n",
       "    <tr>\n",
       "      <th>1</th>\n",
       "      <td>1</td>\n",
       "      <td>Antiques Roadkill: A Trash 'n' Treasures Mystery</td>\n",
       "      <td>Barbara Allan</td>\n",
       "      <td>3.300</td>\n",
       "      <td>23</td>\n",
       "      <td>26.150</td>\n",
       "      <td>SAR</td>\n",
       "      <td>Determined to make a new start in her quaint h...</td>\n",
       "      <td>Kensington Publishing Corp.</td>\n",
       "      <td>288</td>\n",
       "      <td>Fiction , Mystery &amp;amp, Detective , Cozy , Gen...</td>\n",
       "      <td>9780758272799</td>\n",
       "      <td>English</td>\n",
       "      <td>Jul 1, 2007</td>\n",
       "    </tr>\n",
       "    <tr>\n",
       "      <th>2</th>\n",
       "      <td>2</td>\n",
       "      <td>The Art of Super Mario Odyssey</td>\n",
       "      <td>Nintendo</td>\n",
       "      <td>3.900</td>\n",
       "      <td>9</td>\n",
       "      <td>133.850</td>\n",
       "      <td>SAR</td>\n",
       "      <td>Take a globetrotting journey all over the worl...</td>\n",
       "      <td>Dark Horse Comics</td>\n",
       "      <td>368</td>\n",
       "      <td>Games &amp;amp, Activities , Video &amp;amp, Electronic</td>\n",
       "      <td>9781506713816</td>\n",
       "      <td>English</td>\n",
       "      <td>Nov 5, 2019</td>\n",
       "    </tr>\n",
       "    <tr>\n",
       "      <th>3</th>\n",
       "      <td>3</td>\n",
       "      <td>Getting Away Is Deadly: An Ellie Avery Mystery</td>\n",
       "      <td>Sara Rosett</td>\n",
       "      <td>4.000</td>\n",
       "      <td>10</td>\n",
       "      <td>26.150</td>\n",
       "      <td>SAR</td>\n",
       "      <td>With swollen feet and swelling belly, pregnant...</td>\n",
       "      <td>Kensington Publishing Corp.</td>\n",
       "      <td>320</td>\n",
       "      <td>none</td>\n",
       "      <td>9781617734076</td>\n",
       "      <td>English</td>\n",
       "      <td>Mar 1, 2009</td>\n",
       "    </tr>\n",
       "    <tr>\n",
       "      <th>4</th>\n",
       "      <td>4</td>\n",
       "      <td>The Painted Man (The Demon Cycle, Book 1)</td>\n",
       "      <td>Peter V. Brett</td>\n",
       "      <td>4.500</td>\n",
       "      <td>577</td>\n",
       "      <td>28.540</td>\n",
       "      <td>SAR</td>\n",
       "      <td>The stunning debut fantasy novel from author P...</td>\n",
       "      <td>HarperCollins UK</td>\n",
       "      <td>544</td>\n",
       "      <td>Fiction , Fantasy , Dark Fantasy</td>\n",
       "      <td>9780007287758</td>\n",
       "      <td>English</td>\n",
       "      <td>Jan 8, 2009</td>\n",
       "    </tr>\n",
       "  </tbody>\n",
       "</table>\n",
       "</div>"
      ],
      "text/plain": [
       "   Unnamed: 0                       title                            author      rating voters   price currency                    description                              publisher            page_count                      generes                            ISBN      language published_date\n",
       "0       0                            Attack on Titan: Volume 13  Hajime Isayama  4.600    428   43.280    SAR    NO SAFE PLACE LEFT At great cost to the Garris...              Kodansha Comics      192                                                  none  9781612626864  English  Jul 31, 2014 \n",
       "1       1      Antiques Roadkill: A Trash 'n' Treasures Mystery   Barbara Allan  3.300     23   26.150    SAR    Determined to make a new start in her quaint h...  Kensington Publishing Corp.      288     Fiction , Mystery &amp, Detective , Cozy , Gen...  9780758272799  English   Jul 1, 2007 \n",
       "2       2                        The Art of Super Mario Odyssey        Nintendo  3.900      9  133.850    SAR    Take a globetrotting journey all over the worl...            Dark Horse Comics      368       Games &amp, Activities , Video &amp, Electronic  9781506713816  English   Nov 5, 2019 \n",
       "3       3        Getting Away Is Deadly: An Ellie Avery Mystery     Sara Rosett  4.000     10   26.150    SAR    With swollen feet and swelling belly, pregnant...  Kensington Publishing Corp.      320                                                  none  9781617734076  English   Mar 1, 2009 \n",
       "4       4             The Painted Man (The Demon Cycle, Book 1)  Peter V. Brett  4.500    577   28.540    SAR    The stunning debut fantasy novel from author P...             HarperCollins UK      544                      Fiction , Fantasy , Dark Fantasy  9780007287758  English   Jan 8, 2009 "
      ]
     },
     "execution_count": 3,
     "metadata": {},
     "output_type": "execute_result"
    }
   ],
   "source": [
    "df.head()"
   ]
  },
  {
   "cell_type": "code",
   "execution_count": 4,
   "id": "c1532ad2",
   "metadata": {},
   "outputs": [
    {
     "name": "stdout",
     "output_type": "stream",
     "text": [
      "<class 'pandas.core.frame.DataFrame'>\n",
      "RangeIndex: 1299 entries, 0 to 1298\n",
      "Data columns (total 14 columns):\n",
      " #   Column          Non-Null Count  Dtype  \n",
      "---  ------          --------------  -----  \n",
      " 0   Unnamed: 0      1299 non-null   int64  \n",
      " 1   title           1299 non-null   object \n",
      " 2   author          1299 non-null   object \n",
      " 3   rating          1224 non-null   float64\n",
      " 4   voters          1224 non-null   object \n",
      " 5   price           1299 non-null   float64\n",
      " 6   currency        1299 non-null   object \n",
      " 7   description     1296 non-null   object \n",
      " 8   publisher       1299 non-null   object \n",
      " 9   page_count      1299 non-null   int64  \n",
      " 10  generes         1299 non-null   object \n",
      " 11  ISBN            1299 non-null   object \n",
      " 12  language        1299 non-null   object \n",
      " 13  published_date  1299 non-null   object \n",
      "dtypes: float64(2), int64(2), object(10)\n",
      "memory usage: 142.2+ KB\n"
     ]
    }
   ],
   "source": [
    "df.info()"
   ]
  },
  {
   "cell_type": "code",
   "execution_count": 5,
   "id": "da059455",
   "metadata": {},
   "outputs": [],
   "source": [
    "# Here we drop the Unnamed column\n",
    "df.drop('Unnamed: 0', axis=1, inplace=True)\n"
   ]
  },
  {
   "cell_type": "code",
   "execution_count": 6,
   "id": "d4a5b45d",
   "metadata": {},
   "outputs": [
    {
     "name": "stdout",
     "output_type": "stream",
     "text": [
      "<class 'pandas.core.frame.DataFrame'>\n",
      "RangeIndex: 1299 entries, 0 to 1298\n",
      "Data columns (total 13 columns):\n",
      " #   Column          Non-Null Count  Dtype  \n",
      "---  ------          --------------  -----  \n",
      " 0   title           1299 non-null   object \n",
      " 1   author          1299 non-null   object \n",
      " 2   rating          1224 non-null   float64\n",
      " 3   voters          1224 non-null   object \n",
      " 4   price           1299 non-null   float64\n",
      " 5   currency        1299 non-null   object \n",
      " 6   description     1296 non-null   object \n",
      " 7   publisher       1299 non-null   object \n",
      " 8   page_count      1299 non-null   int64  \n",
      " 9   generes         1299 non-null   object \n",
      " 10  ISBN            1299 non-null   object \n",
      " 11  language        1299 non-null   object \n",
      " 12  published_date  1299 non-null   object \n",
      "dtypes: float64(2), int64(1), object(10)\n",
      "memory usage: 132.1+ KB\n"
     ]
    }
   ],
   "source": [
    "df.info()"
   ]
  },
  {
   "cell_type": "code",
   "execution_count": 7,
   "id": "1d5f334f",
   "metadata": {},
   "outputs": [
    {
     "data": {
      "text/plain": [
       "title              0\n",
       "author             0\n",
       "rating            75\n",
       "voters            75\n",
       "price              0\n",
       "currency           0\n",
       "description        3\n",
       "publisher          0\n",
       "page_count         0\n",
       "generes            0\n",
       "ISBN               0\n",
       "language           0\n",
       "published_date     0\n",
       "dtype: int64"
      ]
     },
     "execution_count": 7,
     "metadata": {},
     "output_type": "execute_result"
    }
   ],
   "source": [
    "df.isna().sum()"
   ]
  },
  {
   "cell_type": "code",
   "execution_count": 9,
   "id": "e004d542",
   "metadata": {},
   "outputs": [
    {
     "data": {
      "text/plain": [
       "0                                                 none\n",
       "1    Fiction , Mystery &amp, Detective , Cozy , Gen...\n",
       "2      Games &amp, Activities , Video &amp, Electronic\n",
       "3                                                 none\n",
       "4                     Fiction , Fantasy , Dark Fantasy\n",
       "Name: generes, dtype: object"
      ]
     },
     "execution_count": 9,
     "metadata": {},
     "output_type": "execute_result"
    }
   ],
   "source": [
    "df['generes'].head()"
   ]
  },
  {
   "cell_type": "code",
   "execution_count": 11,
   "id": "5b667c13-c1a8-4f41-981a-3261d787b880",
   "metadata": {},
   "outputs": [
    {
     "name": "stdout",
     "output_type": "stream",
     "text": [
      "['amp', 'none']\n"
     ]
    }
   ],
   "source": [
    "import string\n",
    "punct = list(string.punctuation)\n",
    "\n",
    "from gensim.utils import simple_preprocess\n",
    "\n",
    "from nltk.corpus import stopwords\n",
    "stop_words = stopwords.words('english')\n",
    "stop_words.extend(['amp', 'none'])\n",
    "print(stop_words[-2:])\n",
    "\n",
    "from nltk.tokenize import TreebankWordTokenizer"
   ]
  },
  {
   "cell_type": "code",
   "execution_count": 12,
   "id": "b13210de",
   "metadata": {},
   "outputs": [
    {
     "data": {
      "text/plain": [
       "0"
      ]
     },
     "execution_count": 12,
     "metadata": {},
     "output_type": "execute_result"
    }
   ],
   "source": [
    "# Here we use simple preprocessing function from gensim\n",
    "df['preprocessed_genre'] = df['generes'].apply(\n",
    "    lambda genre: simple_preprocess(genre.replace('&', '').replace('amp', '').replace(',', '').replace('none', ''), min_len=1) if type(genre) is str else '')\n",
    "df['preprocessed_genre'].isna().sum()"
   ]
  },
  {
   "cell_type": "code",
   "execution_count": 13,
   "id": "93b6bd83",
   "metadata": {},
   "outputs": [],
   "source": [
    "df = df[df['preprocessed_genre'].map(len) > 1]"
   ]
  },
  {
   "cell_type": "code",
   "execution_count": 17,
   "id": "d1e93ca3-4e6d-4c44-aced-5cd08a791c7c",
   "metadata": {},
   "outputs": [
    {
     "data": {
      "text/plain": [
       "1    [fiction, mystery, detective, cozy, general]\n",
       "2          [games, activities, video, electronic]\n",
       "4               [fiction, fantasy, dark, fantasy]\n",
       "6                       [fiction, media, tie, in]\n",
       "7                        [fiction, fantasy, epic]\n",
       "Name: preprocessed_genre, dtype: object"
      ]
     },
     "execution_count": 17,
     "metadata": {},
     "output_type": "execute_result"
    }
   ],
   "source": [
    "df['preprocessed_genre'].head()"
   ]
  },
  {
   "cell_type": "code",
   "execution_count": 15,
   "id": "47dfe010",
   "metadata": {},
   "outputs": [],
   "source": [
    "# df['generes'].apply(lambda x: x.replace(',', '').replace('&amp', '').replace('none', ''))\n",
    "# df['generes'].isna().sum()"
   ]
  },
  {
   "cell_type": "code",
   "execution_count": 16,
   "id": "7f4139f8",
   "metadata": {},
   "outputs": [],
   "source": [
    "# def clean_up_genres(x):\n",
    "#     x = x.replace(',', '').replace('&amp', '').replace('none', '')\n",
    "#     return x\n",
    "\n",
    "# df['genres'] = df['generes'].apply(clean_up_genres)\n",
    "# df['genres']"
   ]
  },
  {
   "cell_type": "code",
   "execution_count": null,
   "id": "a1c66595-a1cc-48b5-a5e7-fdf95da6b806",
   "metadata": {},
   "outputs": [],
   "source": []
  }
 ],
 "metadata": {
  "interpreter": {
   "hash": "5f52fba7fbe6eaec4bb153ac943f5f895f1679e83a64c9e5a536ae1aedc86241"
  },
  "kernelspec": {
   "display_name": "Python 3 (ipykernel)",
   "language": "python",
   "name": "python3"
  },
  "language_info": {
   "codemirror_mode": {
    "name": "ipython",
    "version": 3
   },
   "file_extension": ".py",
   "mimetype": "text/x-python",
   "name": "python",
   "nbconvert_exporter": "python",
   "pygments_lexer": "ipython3",
   "version": "3.9.7"
  }
 },
 "nbformat": 4,
 "nbformat_minor": 5
}
