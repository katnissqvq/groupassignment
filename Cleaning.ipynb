{
 "cells": [
  {
   "cell_type": "code",
   "execution_count": 1,
   "id": "d62029ea-5de8-45e3-b139-d35d4cdee138",
   "metadata": {},
   "outputs": [],
   "source": [
    "import pandas as pd \n",
    "import seaborn as sns\n",
    "import scipy.stats\n",
    "import matplotlib.pyplot as plt\n",
    "import matplotlib.colors as col\n",
    "df_googlebooks1= pd.read_csv('google_books_1299.csv', header=0, delimiter=',')"
   ]
  },
  {
   "cell_type": "code",
   "execution_count": 2,
   "id": "2c3217eb-3bd4-4bbc-8378-dbc63ba09d9e",
   "metadata": {},
   "outputs": [
    {
     "data": {
      "text/plain": [
       "(1299, 14)"
      ]
     },
     "execution_count": 2,
     "metadata": {},
     "output_type": "execute_result"
    }
   ],
   "source": [
    "df_googlebooks1.shape"
   ]
  },
  {
   "cell_type": "code",
   "execution_count": 3,
   "id": "f57938ab-95f9-4cd1-9cd3-12ba660ab73c",
   "metadata": {},
   "outputs": [
    {
     "data": {
      "text/html": [
       "<div>\n",
       "<style scoped>\n",
       "    .dataframe tbody tr th:only-of-type {\n",
       "        vertical-align: middle;\n",
       "    }\n",
       "\n",
       "    .dataframe tbody tr th {\n",
       "        vertical-align: top;\n",
       "    }\n",
       "\n",
       "    .dataframe thead th {\n",
       "        text-align: right;\n",
       "    }\n",
       "</style>\n",
       "<table border=\"1\" class=\"dataframe\">\n",
       "  <thead>\n",
       "    <tr style=\"text-align: right;\">\n",
       "      <th></th>\n",
       "      <th>Unnamed: 0</th>\n",
       "      <th>title</th>\n",
       "      <th>author</th>\n",
       "      <th>rating</th>\n",
       "      <th>voters</th>\n",
       "      <th>price</th>\n",
       "      <th>currency</th>\n",
       "      <th>description</th>\n",
       "      <th>publisher</th>\n",
       "      <th>page_count</th>\n",
       "      <th>generes</th>\n",
       "      <th>ISBN</th>\n",
       "      <th>language</th>\n",
       "      <th>published_date</th>\n",
       "    </tr>\n",
       "  </thead>\n",
       "  <tbody>\n",
       "    <tr>\n",
       "      <th>0</th>\n",
       "      <td>0</td>\n",
       "      <td>Attack on Titan: Volume 13</td>\n",
       "      <td>Hajime Isayama</td>\n",
       "      <td>4.6</td>\n",
       "      <td>428</td>\n",
       "      <td>43.28</td>\n",
       "      <td>SAR</td>\n",
       "      <td>NO SAFE PLACE LEFT At great cost to the Garris...</td>\n",
       "      <td>Kodansha Comics</td>\n",
       "      <td>192</td>\n",
       "      <td>none</td>\n",
       "      <td>9781612626864</td>\n",
       "      <td>English</td>\n",
       "      <td>Jul 31, 2014</td>\n",
       "    </tr>\n",
       "    <tr>\n",
       "      <th>1</th>\n",
       "      <td>1</td>\n",
       "      <td>Antiques Roadkill: A Trash 'n' Treasures Mystery</td>\n",
       "      <td>Barbara Allan</td>\n",
       "      <td>3.3</td>\n",
       "      <td>23</td>\n",
       "      <td>26.15</td>\n",
       "      <td>SAR</td>\n",
       "      <td>Determined to make a new start in her quaint h...</td>\n",
       "      <td>Kensington Publishing Corp.</td>\n",
       "      <td>288</td>\n",
       "      <td>Fiction , Mystery &amp;amp, Detective , Cozy , Gen...</td>\n",
       "      <td>9780758272799</td>\n",
       "      <td>English</td>\n",
       "      <td>Jul 1, 2007</td>\n",
       "    </tr>\n",
       "    <tr>\n",
       "      <th>2</th>\n",
       "      <td>2</td>\n",
       "      <td>The Art of Super Mario Odyssey</td>\n",
       "      <td>Nintendo</td>\n",
       "      <td>3.9</td>\n",
       "      <td>9</td>\n",
       "      <td>133.85</td>\n",
       "      <td>SAR</td>\n",
       "      <td>Take a globetrotting journey all over the worl...</td>\n",
       "      <td>Dark Horse Comics</td>\n",
       "      <td>368</td>\n",
       "      <td>Games &amp;amp, Activities , Video &amp;amp, Electronic</td>\n",
       "      <td>9781506713816</td>\n",
       "      <td>English</td>\n",
       "      <td>Nov 5, 2019</td>\n",
       "    </tr>\n",
       "    <tr>\n",
       "      <th>3</th>\n",
       "      <td>3</td>\n",
       "      <td>Getting Away Is Deadly: An Ellie Avery Mystery</td>\n",
       "      <td>Sara Rosett</td>\n",
       "      <td>4.0</td>\n",
       "      <td>10</td>\n",
       "      <td>26.15</td>\n",
       "      <td>SAR</td>\n",
       "      <td>With swollen feet and swelling belly, pregnant...</td>\n",
       "      <td>Kensington Publishing Corp.</td>\n",
       "      <td>320</td>\n",
       "      <td>none</td>\n",
       "      <td>9781617734076</td>\n",
       "      <td>English</td>\n",
       "      <td>Mar 1, 2009</td>\n",
       "    </tr>\n",
       "    <tr>\n",
       "      <th>4</th>\n",
       "      <td>4</td>\n",
       "      <td>The Painted Man (The Demon Cycle, Book 1)</td>\n",
       "      <td>Peter V. Brett</td>\n",
       "      <td>4.5</td>\n",
       "      <td>577</td>\n",
       "      <td>28.54</td>\n",
       "      <td>SAR</td>\n",
       "      <td>The stunning debut fantasy novel from author P...</td>\n",
       "      <td>HarperCollins UK</td>\n",
       "      <td>544</td>\n",
       "      <td>Fiction , Fantasy , Dark Fantasy</td>\n",
       "      <td>9780007287758</td>\n",
       "      <td>English</td>\n",
       "      <td>Jan 8, 2009</td>\n",
       "    </tr>\n",
       "  </tbody>\n",
       "</table>\n",
       "</div>"
      ],
      "text/plain": [
       "   Unnamed: 0                                             title  \\\n",
       "0           0                        Attack on Titan: Volume 13   \n",
       "1           1  Antiques Roadkill: A Trash 'n' Treasures Mystery   \n",
       "2           2                    The Art of Super Mario Odyssey   \n",
       "3           3    Getting Away Is Deadly: An Ellie Avery Mystery   \n",
       "4           4         The Painted Man (The Demon Cycle, Book 1)   \n",
       "\n",
       "           author  rating voters   price currency  \\\n",
       "0  Hajime Isayama     4.6    428   43.28      SAR   \n",
       "1   Barbara Allan     3.3     23   26.15      SAR   \n",
       "2        Nintendo     3.9      9  133.85      SAR   \n",
       "3     Sara Rosett     4.0     10   26.15      SAR   \n",
       "4  Peter V. Brett     4.5    577   28.54      SAR   \n",
       "\n",
       "                                         description  \\\n",
       "0  NO SAFE PLACE LEFT At great cost to the Garris...   \n",
       "1  Determined to make a new start in her quaint h...   \n",
       "2  Take a globetrotting journey all over the worl...   \n",
       "3  With swollen feet and swelling belly, pregnant...   \n",
       "4  The stunning debut fantasy novel from author P...   \n",
       "\n",
       "                     publisher  page_count  \\\n",
       "0              Kodansha Comics         192   \n",
       "1  Kensington Publishing Corp.         288   \n",
       "2            Dark Horse Comics         368   \n",
       "3  Kensington Publishing Corp.         320   \n",
       "4             HarperCollins UK         544   \n",
       "\n",
       "                                             generes           ISBN language  \\\n",
       "0                                               none  9781612626864  English   \n",
       "1  Fiction , Mystery &amp, Detective , Cozy , Gen...  9780758272799  English   \n",
       "2    Games &amp, Activities , Video &amp, Electronic  9781506713816  English   \n",
       "3                                               none  9781617734076  English   \n",
       "4                   Fiction , Fantasy , Dark Fantasy  9780007287758  English   \n",
       "\n",
       "  published_date  \n",
       "0   Jul 31, 2014  \n",
       "1    Jul 1, 2007  \n",
       "2    Nov 5, 2019  \n",
       "3    Mar 1, 2009  \n",
       "4    Jan 8, 2009  "
      ]
     },
     "execution_count": 3,
     "metadata": {},
     "output_type": "execute_result"
    }
   ],
   "source": [
    "df_googlebooks1.head()"
   ]
  },
  {
   "cell_type": "code",
   "execution_count": 4,
   "id": "2a4e9368-7ad3-42a9-88d9-a9397a41b9ac",
   "metadata": {},
   "outputs": [
    {
     "data": {
      "text/plain": [
       "Index(['Unnamed: 0', 'title', 'author', 'rating', 'voters', 'price',\n",
       "       'currency', 'description', 'publisher', 'page_count', 'generes', 'ISBN',\n",
       "       'language', 'published_date'],\n",
       "      dtype='object')"
      ]
     },
     "execution_count": 4,
     "metadata": {},
     "output_type": "execute_result"
    }
   ],
   "source": [
    "df_googlebooks1.columns"
   ]
  },
  {
   "cell_type": "code",
   "execution_count": 5,
   "id": "6a166dd1-c84a-405c-8100-c08ecdd57e75",
   "metadata": {},
   "outputs": [
    {
     "data": {
      "text/plain": [
       "Unnamed: 0          int64\n",
       "title              object\n",
       "author             object\n",
       "rating            float64\n",
       "voters             object\n",
       "price             float64\n",
       "currency           object\n",
       "description        object\n",
       "publisher          object\n",
       "page_count          int64\n",
       "generes            object\n",
       "ISBN               object\n",
       "language           object\n",
       "published_date     object\n",
       "dtype: object"
      ]
     },
     "execution_count": 5,
     "metadata": {},
     "output_type": "execute_result"
    }
   ],
   "source": [
    "df_googlebooks1.dtypes"
   ]
  },
  {
   "cell_type": "code",
   "execution_count": 6,
   "id": "de6c8e6e-0275-43bd-be42-36b631ede81f",
   "metadata": {},
   "outputs": [
    {
     "data": {
      "text/plain": [
       "Unnamed: 0         0\n",
       "title              0\n",
       "author             0\n",
       "rating            75\n",
       "voters            75\n",
       "price              0\n",
       "currency           0\n",
       "description        3\n",
       "publisher          0\n",
       "page_count         0\n",
       "generes            0\n",
       "ISBN               0\n",
       "language           0\n",
       "published_date     0\n",
       "dtype: int64"
      ]
     },
     "execution_count": 6,
     "metadata": {},
     "output_type": "execute_result"
    }
   ],
   "source": [
    "df_googlebooks1.isna().sum()"
   ]
  },
  {
   "cell_type": "markdown",
   "id": "a29c4970-029f-4987-bc9a-5582693e4fc7",
   "metadata": {},
   "source": [
    "variables of interest: genres and ratings. first, tokenize genres. "
   ]
  },
  {
   "cell_type": "code",
   "execution_count": 7,
   "id": "20a25972-d86d-4e7e-b716-42343256f30c",
   "metadata": {},
   "outputs": [],
   "source": [
    "import pandas as pd\n",
    "df = pd.read_csv('google_books_1299.csv')"
   ]
  },
  {
   "cell_type": "code",
   "execution_count": 8,
   "id": "24a3bb95-fa36-4461-bbd0-0ad8ff463298",
   "metadata": {},
   "outputs": [
    {
     "data": {
      "text/plain": [
       "0                                                    none\n",
       "1       Fiction , Mystery &amp, Detective , Cozy , Gen...\n",
       "2         Games &amp, Activities , Video &amp, Electronic\n",
       "3                                                    none\n",
       "4                        Fiction , Fantasy , Dark Fantasy\n",
       "                              ...                        \n",
       "1294                       Medical , Health Care Delivery\n",
       "1295    Psychology , Cognitive Psychology &amp, Cognition\n",
       "1296                                                 none\n",
       "1297                                                 none\n",
       "1298                       Fiction , Thrillers , Suspense\n",
       "Name: generes, Length: 1299, dtype: object"
      ]
     },
     "execution_count": 8,
     "metadata": {},
     "output_type": "execute_result"
    }
   ],
   "source": [
    "df['generes']"
   ]
  },
  {
   "cell_type": "code",
   "execution_count": 9,
   "id": "f923226d-6e29-4fcf-9c3a-bab2c9ae7e6c",
   "metadata": {},
   "outputs": [],
   "source": [
    "df['generes'].apply(lambda x: x.replace(',', '').replace('&amp', '').split())\n",
    "df['genres'] = df['generes'].apply(lambda x: ' '.join(x.replace(',', '').replace('&amp', '').split()))"
   ]
  },
  {
   "cell_type": "code",
   "execution_count": 10,
   "id": "f0264702-6940-456c-bb6a-ee026323f23e",
   "metadata": {},
   "outputs": [
    {
     "data": {
      "text/plain": [
       "0                                              none\n",
       "1        Fiction  Mystery  Detective  Cozy  General\n",
       "2              Games  Activities  Video  Electronic\n",
       "3                                              none\n",
       "4                    Fiction  Fantasy  Dark Fantasy\n",
       "                           ...                     \n",
       "1294                  Medical  Health Care Delivery\n",
       "1295    Psychology  Cognitive Psychology  Cognition\n",
       "1296                                           none\n",
       "1297                                           none\n",
       "1298                   Fiction  Thrillers  Suspense\n",
       "Name: genres, Length: 1299, dtype: object"
      ]
     },
     "execution_count": 10,
     "metadata": {},
     "output_type": "execute_result"
    }
   ],
   "source": [
    "def clean_up_genres(x):\n",
    "    x = x.replace(',', '').replace('&amp', '')\n",
    "    return x\n",
    "\n",
    "df['genres'] = df['generes'].apply(clean_up_genres)\n",
    "df['genres']"
   ]
  },
  {
   "cell_type": "code",
   "execution_count": 11,
   "id": "8d6f3a25-88d0-44f6-babc-464898cba76c",
   "metadata": {},
   "outputs": [
    {
     "data": {
      "text/plain": [
       "count     1299\n",
       "unique     242\n",
       "top       none\n",
       "freq       527\n",
       "Name: genres, dtype: object"
      ]
     },
     "execution_count": 11,
     "metadata": {},
     "output_type": "execute_result"
    }
   ],
   "source": [
    "df['genres'].describe()"
   ]
  },
  {
   "cell_type": "code",
   "execution_count": 12,
   "id": "ac0a6eb9-f3d6-467f-bfea-6849fd6ad143",
   "metadata": {},
   "outputs": [
    {
     "data": {
      "text/plain": [
       "none                                                 527\n",
       "Fiction  Thrillers  Suspense                          35\n",
       "Fiction  Fantasy  Epic                                33\n",
       "Comics  Graphic Novels  Superheroes                   30\n",
       "Fiction  Mystery  Detective  General                  21\n",
       "                                                    ... \n",
       "Biography  Autobiography  Science  Technology          1\n",
       "Political Science  Public Affairs  Administration      1\n",
       "Cooking  Holiday                                       1\n",
       "Social Science  Popular Culture                        1\n",
       "Medical  Health Care Delivery                          1\n",
       "Name: genres, Length: 242, dtype: int64"
      ]
     },
     "execution_count": 12,
     "metadata": {},
     "output_type": "execute_result"
    }
   ],
   "source": [
    "df['genres'].value_counts()"
   ]
  },
  {
   "cell_type": "code",
   "execution_count": 13,
   "id": "28ee3748-3f8a-4aec-87c9-2d91e79061c7",
   "metadata": {},
   "outputs": [
    {
     "data": {
      "text/html": [
       "<div>\n",
       "<style scoped>\n",
       "    .dataframe tbody tr th:only-of-type {\n",
       "        vertical-align: middle;\n",
       "    }\n",
       "\n",
       "    .dataframe tbody tr th {\n",
       "        vertical-align: top;\n",
       "    }\n",
       "\n",
       "    .dataframe thead th {\n",
       "        text-align: right;\n",
       "    }\n",
       "</style>\n",
       "<table border=\"1\" class=\"dataframe\">\n",
       "  <thead>\n",
       "    <tr style=\"text-align: right;\">\n",
       "      <th></th>\n",
       "      <th>new_g</th>\n",
       "      <th>title</th>\n",
       "      <th>rating</th>\n",
       "      <th>voters</th>\n",
       "      <th>published_date</th>\n",
       "    </tr>\n",
       "  </thead>\n",
       "  <tbody>\n",
       "    <tr>\n",
       "      <th>0</th>\n",
       "      <td>none</td>\n",
       "      <td>Attack on Titan: Volume 13</td>\n",
       "      <td>4.6</td>\n",
       "      <td>428</td>\n",
       "      <td>Jul 31, 2014</td>\n",
       "    </tr>\n",
       "    <tr>\n",
       "      <th>1</th>\n",
       "      <td>Fiction</td>\n",
       "      <td>Antiques Roadkill: A Trash 'n' Treasures Mystery</td>\n",
       "      <td>3.3</td>\n",
       "      <td>23</td>\n",
       "      <td>Jul 1, 2007</td>\n",
       "    </tr>\n",
       "    <tr>\n",
       "      <th>1</th>\n",
       "      <td>Mystery</td>\n",
       "      <td>Antiques Roadkill: A Trash 'n' Treasures Mystery</td>\n",
       "      <td>3.3</td>\n",
       "      <td>23</td>\n",
       "      <td>Jul 1, 2007</td>\n",
       "    </tr>\n",
       "    <tr>\n",
       "      <th>1</th>\n",
       "      <td>Detective</td>\n",
       "      <td>Antiques Roadkill: A Trash 'n' Treasures Mystery</td>\n",
       "      <td>3.3</td>\n",
       "      <td>23</td>\n",
       "      <td>Jul 1, 2007</td>\n",
       "    </tr>\n",
       "    <tr>\n",
       "      <th>1</th>\n",
       "      <td>Cozy</td>\n",
       "      <td>Antiques Roadkill: A Trash 'n' Treasures Mystery</td>\n",
       "      <td>3.3</td>\n",
       "      <td>23</td>\n",
       "      <td>Jul 1, 2007</td>\n",
       "    </tr>\n",
       "    <tr>\n",
       "      <th>1</th>\n",
       "      <td>General</td>\n",
       "      <td>Antiques Roadkill: A Trash 'n' Treasures Mystery</td>\n",
       "      <td>3.3</td>\n",
       "      <td>23</td>\n",
       "      <td>Jul 1, 2007</td>\n",
       "    </tr>\n",
       "    <tr>\n",
       "      <th>2</th>\n",
       "      <td>Games</td>\n",
       "      <td>The Art of Super Mario Odyssey</td>\n",
       "      <td>3.9</td>\n",
       "      <td>9</td>\n",
       "      <td>Nov 5, 2019</td>\n",
       "    </tr>\n",
       "    <tr>\n",
       "      <th>2</th>\n",
       "      <td>Activities</td>\n",
       "      <td>The Art of Super Mario Odyssey</td>\n",
       "      <td>3.9</td>\n",
       "      <td>9</td>\n",
       "      <td>Nov 5, 2019</td>\n",
       "    </tr>\n",
       "    <tr>\n",
       "      <th>2</th>\n",
       "      <td>Video</td>\n",
       "      <td>The Art of Super Mario Odyssey</td>\n",
       "      <td>3.9</td>\n",
       "      <td>9</td>\n",
       "      <td>Nov 5, 2019</td>\n",
       "    </tr>\n",
       "    <tr>\n",
       "      <th>2</th>\n",
       "      <td>Electronic</td>\n",
       "      <td>The Art of Super Mario Odyssey</td>\n",
       "      <td>3.9</td>\n",
       "      <td>9</td>\n",
       "      <td>Nov 5, 2019</td>\n",
       "    </tr>\n",
       "  </tbody>\n",
       "</table>\n",
       "</div>"
      ],
      "text/plain": [
       "        new_g                                             title  rating  \\\n",
       "0        none                        Attack on Titan: Volume 13     4.6   \n",
       "1     Fiction  Antiques Roadkill: A Trash 'n' Treasures Mystery     3.3   \n",
       "1     Mystery  Antiques Roadkill: A Trash 'n' Treasures Mystery     3.3   \n",
       "1   Detective  Antiques Roadkill: A Trash 'n' Treasures Mystery     3.3   \n",
       "1        Cozy  Antiques Roadkill: A Trash 'n' Treasures Mystery     3.3   \n",
       "1     General  Antiques Roadkill: A Trash 'n' Treasures Mystery     3.3   \n",
       "2       Games                    The Art of Super Mario Odyssey     3.9   \n",
       "2  Activities                    The Art of Super Mario Odyssey     3.9   \n",
       "2       Video                    The Art of Super Mario Odyssey     3.9   \n",
       "2  Electronic                    The Art of Super Mario Odyssey     3.9   \n",
       "\n",
       "  voters published_date  \n",
       "0    428   Jul 31, 2014  \n",
       "1     23    Jul 1, 2007  \n",
       "1     23    Jul 1, 2007  \n",
       "1     23    Jul 1, 2007  \n",
       "1     23    Jul 1, 2007  \n",
       "1     23    Jul 1, 2007  \n",
       "2      9    Nov 5, 2019  \n",
       "2      9    Nov 5, 2019  \n",
       "2      9    Nov 5, 2019  \n",
       "2      9    Nov 5, 2019  "
      ]
     },
     "execution_count": 13,
     "metadata": {},
     "output_type": "execute_result"
    }
   ],
   "source": [
    "s = df.apply(lambda x: pd.Series(x['genres'].split()) ,axis=1).stack().reset_index(level=1, drop=True)\n",
    "s.name = 'new_g'\n",
    "df = df.join(s)\n",
    "\n",
    "df[['new_g', 'title', 'rating', 'voters', 'published_date']].head(10)"
   ]
  },
  {
   "cell_type": "code",
   "execution_count": 14,
   "id": "4b77d6e9-4f8a-4aea-b829-706b04606ade",
   "metadata": {},
   "outputs": [
    {
     "data": {
      "text/plain": [
       "none         528\n",
       "Fiction      474\n",
       "General      180\n",
       "Business     129\n",
       "Economics    126\n",
       "            ... \n",
       "Espionage      1\n",
       "Studies        1\n",
       "Gender         1\n",
       "Medicine       1\n",
       "Delivery       1\n",
       "Name: new_g, Length: 295, dtype: int64"
      ]
     },
     "execution_count": 14,
     "metadata": {},
     "output_type": "execute_result"
    }
   ],
   "source": [
    "df[\"new_g\"].value_counts()"
   ]
  },
  {
   "cell_type": "code",
   "execution_count": 15,
   "id": "386cdcc3-3b5d-471b-a5a2-41e21077fe6e",
   "metadata": {},
   "outputs": [
    {
     "data": {
      "text/plain": [
       "count     3489\n",
       "unique     295\n",
       "top       none\n",
       "freq       528\n",
       "Name: new_g, dtype: object"
      ]
     },
     "execution_count": 15,
     "metadata": {},
     "output_type": "execute_result"
    }
   ],
   "source": [
    "df[\"new_g\"].describe()"
   ]
  },
  {
   "cell_type": "code",
   "execution_count": 16,
   "id": "aa08aca2-b29c-4858-ad71-9b0d43cb5228",
   "metadata": {},
   "outputs": [
    {
     "data": {
      "text/plain": [
       "(3489,)"
      ]
     },
     "execution_count": 16,
     "metadata": {},
     "output_type": "execute_result"
    }
   ],
   "source": [
    "df[\"new_g\"].shape"
   ]
  },
  {
   "cell_type": "code",
   "execution_count": null,
   "id": "4cb9f901-e7ac-412b-a0ce-1f67a4e3072b",
   "metadata": {},
   "outputs": [],
   "source": [
    "df[\"new_g\"]."
   ]
  },
  {
   "cell_type": "code",
   "execution_count": 20,
   "id": "8f9c18f9-82f3-4fb0-be05-38d24fdb4376",
   "metadata": {},
   "outputs": [
    {
     "data": {
      "text/plain": [
       "<AxesSubplot:>"
      ]
     },
     "execution_count": 20,
     "metadata": {},
     "output_type": "execute_result"
    },
    {
     "data": {
      "image/png": "[encoded data removed]",
      "text/plain": [
       "<Figure size 432x288 with 1 Axes>"
      ]
     },
     "metadata": {
      "needs_background": "light"
     },
     "output_type": "display_data"
    }
   ],
   "source": [
    "df[\"new_g\"].value_counts().plot.bar()\n"
   ]
  },
  {
   "cell_type": "code",
   "execution_count": null,
   "id": "ba9ee2f6-380f-4264-bc67-c17e0cb277d8",
   "metadata": {},
   "outputs": [],
   "source": []
  },
  {
   "cell_type": "code",
   "execution_count": null,
   "id": "28ae9ea7-ba16-4597-8682-efc367eab439",
   "metadata": {},
   "outputs": [],
   "source": []
  }
 ],
 "metadata": {
  "kernelspec": {
   "display_name": "Python 3 (ipykernel)",
   "language": "python",
   "name": "python3"
  },
  "language_info": {
   "codemirror_mode": {
    "name": "ipython",
    "version": 3
   },
   "file_extension": ".py",
   "mimetype": "text/x-python",
   "name": "python",
   "nbconvert_exporter": "python",
   "pygments_lexer": "ipython3",
   "version": "3.9.7"
  }
 },
 "nbformat": 4,
 "nbformat_minor": 5
}
